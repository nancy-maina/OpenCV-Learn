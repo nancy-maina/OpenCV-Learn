{
 "cells": [
  {
   "cell_type": "markdown",
   "id": "2e0c9d31",
   "metadata": {},
   "source": [
    "# BASIC FUNCTIONS IN OPENCV"
   ]
  },
  {
   "cell_type": "markdown",
   "id": "1f411071",
   "metadata": {},
   "source": [
    "#CONVERTING IMAGE TO GRAYSCALE"
   ]
  },
  {
   "cell_type": "code",
   "execution_count": null,
   "id": "30b6c813",
   "metadata": {},
   "outputs": [],
   "source": [
    "import cv2 as cv\n",
    "\n",
    "img = cv.imread(\"Photos/park.jpg\")\n",
    "\n",
    "cv.imshow(\"Original \", img)\n",
    "\n",
    "#CONVERTING IMAGE TO GRAYSCALE\n",
    "gray = cv.cvtColor(img, cv.COLOR_BGR2GRAY)\n",
    "cv.imshow(\"Gray image\", gray)\n",
    "\n",
    "cv.waitKey(0)\n",
    "cv.destroyAllWindows()"
   ]
  },
  {
   "cell_type": "markdown",
   "id": "282eeafc",
   "metadata": {},
   "source": [
    "#BLURRING AN IMAGE"
   ]
  },
  {
   "cell_type": "code",
   "execution_count": null,
   "id": "4b560f4a",
   "metadata": {},
   "outputs": [],
   "source": [
    "import cv2 as cv\n",
    "\n",
    "img = cv.imread(\"Photos/park.jpg\")\n",
    "\n",
    "cv.imshow(\"Original \", img)\n",
    "\n",
    "blur = cv.GaussianBlur(img, (3,3), cv.BORDER_DEFAULT)\n",
    "cv.imshow(\"Blur image\", blur)\n",
    "\n",
    "cv.waitKey(0)\n",
    "cv.destroyAllWindows()"
   ]
  },
  {
   "cell_type": "markdown",
   "id": "82f014dc",
   "metadata": {},
   "source": [
    "#FINDING EDGES AVAILABLE IN AN IMAGE"
   ]
  },
  {
   "cell_type": "code",
   "execution_count": null,
   "id": "8f11c63e",
   "metadata": {},
   "outputs": [],
   "source": [
    "import cv2 as cv\n",
    "\n",
    "img = cv.imread(\"Photos/park.jpg\")\n",
    "\n",
    "cv.imshow(\"Original \", img)\n",
    "\n",
    "canny = cv.Canny(IMG, 125, 175)\n",
    "cv.imshow(\"Canny\", canny)\n",
    "\n",
    "cv.waitKey(0)\n",
    "cv.destroyAllWindows()"
   ]
  },
  {
   "cell_type": "markdown",
   "id": "11135a1e",
   "metadata": {},
   "source": [
    "#REDUCING NUMBER OF EDGES DETECTED"
   ]
  },
  {
   "cell_type": "code",
   "execution_count": null,
   "id": "0301e48a",
   "metadata": {},
   "outputs": [],
   "source": [
    "import cv2 as cv\n",
    "\n",
    "img = cv.imread(\"Photos/park.jpg\")\n",
    "\n",
    "cv.imshow(\"Original \", img)\n",
    "\n",
    "# blur\n",
    "blur = cv.GaussianBlur(img, (7,7),  cv.BORDER_DEFAULT)\n",
    "# cv.imshow(\"Blur\", blur)\n",
    "\n",
    "# Edge cascade\n",
    "canny = cv.Canny(blur, 125, 175)\n",
    "cv.imshow(\"Canny\", canny)\n",
    "\n",
    "cv.waitKey(0)\n",
    "cv.destroyAllWindows()"
   ]
  },
  {
   "cell_type": "markdown",
   "id": "a0c2a690",
   "metadata": {},
   "source": [
    "# PAINTING IMAGE"
   ]
  },
  {
   "cell_type": "code",
   "execution_count": null,
   "id": "b5400dd8",
   "metadata": {},
   "outputs": [],
   "source": [
    "import cv2 as cv\n",
    "import numpy as np\n",
    "\n",
    "blank = np.zeros((500,500,3), dtype='uint8')\n",
    "cv.imshow(\"Blank\", blank)\n",
    "\n",
    "#paint BGR\n",
    "blank[:] = 0,255,0\n",
    "cv.imshow(\"Green\", blank)\n",
    "\n",
    "blank[:] = 255,0,0\n",
    "cv.imshow(\"Blue\", blank)\n",
    "\n",
    "blank[:] = 0,0,255\n",
    "cv.imshow(\"RED\", blank)\n",
    "\n",
    "cv.waitKey(0)\n",
    "cv.deestroyAllWindows()"
   ]
  },
  {
   "cell_type": "code",
   "execution_count": null,
   "id": "60307c2e",
   "metadata": {},
   "outputs": [],
   "source": []
  },
  {
   "cell_type": "markdown",
   "id": "10fd3909",
   "metadata": {},
   "source": [
    "# RESIZING IMAGES AND VIDEOS"
   ]
  },
  {
   "cell_type": "markdown",
   "id": "ea27a261",
   "metadata": {},
   "source": [
    "#GETTING IMAGE / VIDEO DIMENSIONS"
   ]
  },
  {
   "cell_type": "markdown",
   "id": "36f963c4",
   "metadata": {},
   "source": [
    "#IMAGE"
   ]
  },
  {
   "cell_type": "code",
   "execution_count": null,
   "id": "174daa9d",
   "metadata": {},
   "outputs": [],
   "source": [
    "import cv2 as cv\n",
    "image = cv.imread(\"image.format\")\n",
    "\n",
    "print(image.shape[1])#width\n",
    "print(image.shape[0])#height"
   ]
  },
  {
   "cell_type": "markdown",
   "id": "584f1af7",
   "metadata": {},
   "source": [
    "#VIDEO"
   ]
  },
  {
   "cell_type": "code",
   "execution_count": null,
   "id": "eb5cb348",
   "metadata": {},
   "outputs": [],
   "source": [
    "import cv2 as cv\n",
    "cap = cv.VideoCapture(\"video.format\")\\\n",
    "\n",
    "while True:\n",
    "    _, frame = cap.read()\n",
    "    \n",
    "    print(frame.shape[1])\n",
    "    print(frame.shape[0])"
   ]
  },
  {
   "cell_type": "markdown",
   "id": "0e5597ae",
   "metadata": {},
   "source": [
    "#RESCALING/RESIZING IMAGES"
   ]
  },
  {
   "cell_type": "code",
   "execution_count": null,
   "id": "19209a00",
   "metadata": {},
   "outputs": [],
   "source": [
    "import cv2 as cv\n",
    "\n",
    "img = cv.imread(\"image.format\")\n",
    "\n",
    "cv.imshow(\"Image\", img)\n",
    "\n",
    "def rescaleFrame(frame, scale=0.75):\n",
    "    width = int(frame.shape[1] * scale)\n",
    "    height = int(frame.shape[0] * scale)\n",
    "    dimensions = (width, height)\n",
    "\n",
    "    return cv.resize(frame, dimensions, interpolation=cv.INTER_AREA)\n",
    "\n",
    "resized_img = rescaleFrame(img)\n",
    "\n",
    "cv.imshow(\"Resized\", resized_img)\n",
    "\n",
    "cv.waitKey(0)\n",
    "cv.destroyAllWindows()\n"
   ]
  },
  {
   "cell_type": "markdown",
   "id": "8c193653",
   "metadata": {},
   "source": [
    "#RESCALING/RESIZING VIDEO FRAMES. METHOD 1"
   ]
  },
  {
   "cell_type": "code",
   "execution_count": null,
   "id": "425a7027",
   "metadata": {},
   "outputs": [],
   "source": [
    "# WORKS FOR LIVE VIDEOS ONLY !!!\n",
    "import cv2 as cv\n",
    "\n",
    "cap = cv.VideoCapture(\"video.format\")\n",
    "\n",
    "cap.set(3, 680)#width\n",
    "cap.set(4, 480)#height\n",
    "\n",
    "while True:\n",
    "    _, frame = cap.read()\n",
    "    \n",
    "    cv.imshow(\"Video\", frame)\n",
    "    \n",
    "    if cv.waitKey(1) & 0xFF == ord('q'):\n",
    "        break\n",
    "        \n",
    "cap.release()\n",
    "cv.destroyAllWindows()"
   ]
  },
  {
   "cell_type": "code",
   "execution_count": null,
   "id": "13dc26ac",
   "metadata": {},
   "outputs": [],
   "source": [
    "RESCALING/RESIZING VIDEO FRAMES. METHOD 2"
   ]
  },
  {
   "cell_type": "code",
   "execution_count": null,
   "id": "fc4fe33c",
   "metadata": {},
   "outputs": [],
   "source": [
    "import cv2 as cv\n",
    "\n",
    "cap = cv.VideoCapture(\"Video.format\")\n",
    "\n",
    "#FUNCTION TO RESCALE FRAMES\n",
    "\n",
    "def rescaleFrame(frame, scale=0.75):\n",
    "    width = int(frame.shape[1] * scale)\n",
    "    height = int(frame.shape[0] * scale)\n",
    "    \n",
    "    dimensions = (width, height)\n",
    "    \n",
    "    rerurn cv.resize(frame, dimensions, interpolation=cv.INTER_AREA)\n",
    "    \n",
    "while True:\n",
    "    _, frame = cap.read()\n",
    "    \n",
    "    cv.imshow(\"Frame\", frame)\n",
    "    resized_video = rescaleFrame(frame)\n",
    "    cv.imshow(\"Resized video\", resized_video)\n",
    "    \n",
    "    if waitKey(1) & 0xFF == ord('q'):\n",
    "        break\n",
    "\n",
    "cap.release()\n",
    "cv.destroyAllWindows()"
   ]
  },
  {
   "cell_type": "markdown",
   "id": "44b73cd0",
   "metadata": {},
   "source": [
    "# SPLITTING AND MERGING IMAGES"
   ]
  },
  {
   "cell_type": "markdown",
   "id": "561cc13f",
   "metadata": {},
   "source": [
    "# SPLITTING"
   ]
  },
  {
   "cell_type": "code",
   "execution_count": null,
   "id": "e394d59d",
   "metadata": {},
   "outputs": [],
   "source": [
    "import cv2 as cv\n",
    "\n",
    "img = cv.imread(\"Photos/cat.jpg\")\n",
    "\n",
    "b, g, r = cv.split(img)\n",
    "\n",
    "cv.imshow(\"original\", img)\n",
    "\n",
    "cv.imshow(\"Blue channel\", b)\n",
    "cv.imshow(\"Green channel\", g)\n",
    "cv.imshow(\"Red channel\", r)\n",
    "\n",
    "cv.waitKey(0)\n",
    "cv.destroyAllWindows()"
   ]
  },
  {
   "cell_type": "markdown",
   "id": "7c98ebf2",
   "metadata": {},
   "source": [
    "# MERGING"
   ]
  },
  {
   "cell_type": "code",
   "execution_count": null,
   "id": "18307741",
   "metadata": {},
   "outputs": [],
   "source": [
    "import cv2 as cv\n",
    "\n",
    "img = cv.imread(\"Photos/cat.jpg\")\n",
    "\n",
    "r, g, b /*(b,g,r)*/ = cv.split(img)\n",
    "\n",
    "cv.imshow(\"original\", img)\n",
    "\n",
    "cv.imshow(\"Blue channel\", b)\n",
    "cv.imshow(\"Green channel\", g)\n",
    "cv.imshow(\"Red channel\", r)\n",
    "\n",
    "merged_image = cv.merge([r,g,b])\n",
    "cv.imshow(\"After merging\", merged_image)\n",
    "\n",
    "cv.waitKey(0)\n",
    "cv.destroyAllWindows()"
   ]
  },
  {
   "cell_type": "code",
   "execution_count": null,
   "id": "e396fbc2",
   "metadata": {},
   "outputs": [],
   "source": []
  }
 ],
 "metadata": {
  "kernelspec": {
   "display_name": "Python 3 (ipykernel)",
   "language": "python",
   "name": "python3"
  },
  "language_info": {
   "codemirror_mode": {
    "name": "ipython",
    "version": 3
   },
   "file_extension": ".py",
   "mimetype": "text/x-python",
   "name": "python",
   "nbconvert_exporter": "python",
   "pygments_lexer": "ipython3",
   "version": "3.9.0"
  }
 },
 "nbformat": 4,
 "nbformat_minor": 5
}
